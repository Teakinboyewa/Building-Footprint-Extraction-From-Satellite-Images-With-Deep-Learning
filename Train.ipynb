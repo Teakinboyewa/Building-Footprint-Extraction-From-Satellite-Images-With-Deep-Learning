{
 "cells": [
  {
   "cell_type": "markdown",
   "metadata": {
    "id": "prhghqjgFVup"
   },
   "source": [
    "## **Images & masks directory list**"
   ]
  },
  {
   "cell_type": "code",
   "execution_count": 2,
   "metadata": {
    "colab": {
     "base_uri": "https://localhost:8080/"
    },
    "collapsed": true,
    "id": "5BKaq-XqFdfZ",
    "outputId": "c52cec29-61be-4f80-c657-c19e3fa95767"
   },
   "outputs": [
    {
     "name": "stdout",
     "output_type": "stream",
     "text": [
      "['/content/dataset/images/processed_image+final_00001_a0.png', '/content/dataset/images/processed_image+final_00002_a0.png', '/content/dataset/images/processed_image+final_00003_a0.png', '/content/dataset/images/processed_image+final_00004_a0.png', '/content/dataset/images/processed_image+final_00005_a0.png', '/content/dataset/images/processed_image+final_00006_a0.png', '/content/dataset/images/processed_image+final_00007_a0.png', '/content/dataset/images/processed_image+final_00008_a0.png', '/content/dataset/images/processed_image+final_00009_a0.png', '/content/dataset/images/processed_image+final_00010_a0.png', '/content/dataset/images/processed_image+final_00011_a0.png', '/content/dataset/images/processed_image+final_00012_a0.png', '/content/dataset/images/processed_image+final_00013_a0.png', '/content/dataset/images/processed_image+final_00014_a0.png', '/content/dataset/images/processed_image+final_00015_a0.png', '/content/dataset/images/processed_image+final_00016_a0.png', '/content/dataset/images/processed_image+final_00017_a0.png', '/content/dataset/images/processed_image+final_00018_a0.png', '/content/dataset/images/processed_image+final_00019_a0.png', '/content/dataset/images/processed_image+final_00020_a0.png']\n",
      "['/content/dataset/masks/mask_00001_a0.png', '/content/dataset/masks/mask_00002_a0.png', '/content/dataset/masks/mask_00003_a0.png', '/content/dataset/masks/mask_00004_a0.png', '/content/dataset/masks/mask_00005_a0.png', '/content/dataset/masks/mask_00006_a0.png', '/content/dataset/masks/mask_00007_a0.png', '/content/dataset/masks/mask_00008_a0.png', '/content/dataset/masks/mask_00009_a0.png', '/content/dataset/masks/mask_00010_a0.png', '/content/dataset/masks/mask_00011_a0.png', '/content/dataset/masks/mask_00012_a0.png', '/content/dataset/masks/mask_00013_a0.png', '/content/dataset/masks/mask_00014_a0.png', '/content/dataset/masks/mask_00015_a0.png', '/content/dataset/masks/mask_00016_a0.png', '/content/dataset/masks/mask_00017_a0.png', '/content/dataset/masks/mask_00018_a0.png', '/content/dataset/masks/mask_00019_a0.png', '/content/dataset/masks/mask_00020_a0.png']\n"
     ]
    }
   ],
   "source": [
    "# make lists for image and mask directories\n",
    "import glob\n",
    "\n",
    "images_dir = '/outputs/dataset/images'\n",
    "masks_dir = '/outputs/dataset/masks'\n",
    "\n",
    "image_paths = sorted(glob.glob(f'{images_dir}/*'))\n",
    "mask_paths = sorted(glob.glob(f'{masks_dir}/*'))\n",
    "\n",
    "print(image_paths)\n",
    "print(mask_paths)"
   ]
  },
  {
   "cell_type": "markdown",
   "metadata": {
    "id": "75_YhsAVHPFw"
   },
   "source": [
    "## **Prepare Sequence class to load & vectorize batches of data**\n",
    "reference - https://keras.io/examples/vision/oxford_pets_image_segmentation/#prepare-sequence-class-to-load-amp-vectorize-batches-of-data"
   ]
  },
  {
   "cell_type": "code",
   "execution_count": 3,
   "metadata": {
    "id": "_1x8-SKD0Rvi"
   },
   "outputs": [],
   "source": [
    "from tensorflow import keras\n",
    "import numpy as np\n",
    "from tensorflow.keras.preprocessing.image import load_img\n",
    "\n",
    "class BuildingDataset(keras.utils.Sequence):\n",
    "    \"\"\"Helper to iterate over the data (as Numpy arrays).\"\"\"\n",
    "\n",
    "    def __init__(self, batch_size, img_size, input_img_paths, target_img_paths):\n",
    "        self.batch_size = batch_size\n",
    "        self.img_size = img_size\n",
    "        self.input_img_paths = input_img_paths\n",
    "        self.target_img_paths = target_img_paths\n",
    "\n",
    "    def __len__(self):\n",
    "        return len(self.target_img_paths) // self.batch_size\n",
    "\n",
    "    def __getitem__(self, idx):\n",
    "        \"\"\"Returns tuple (input, target) correspond to batch #idx.\"\"\"\n",
    "        i = idx * self.batch_size\n",
    "        batch_input_img_paths = self.input_img_paths[i : i + self.batch_size]\n",
    "        batch_target_img_paths = self.target_img_paths[i : i + self.batch_size]\n",
    "\n",
    "        x = np.zeros((self.batch_size,) + self.img_size + (3,), dtype=\"float32\")\n",
    "        for j, path in enumerate(batch_input_img_paths):\n",
    "            img = load_img(path, target_size=self.img_size)\n",
    "            x[j] = img\n",
    "\n",
    "        #y = np.zeros((self.batch_size,) + self.img_size + (1,), dtype=\"uint8\")\n",
    "        y = np.zeros((self.batch_size,) + self.img_size , dtype=\"uint8\") # original = above code ------------------------------------------\n",
    "        \n",
    "        for j, path in enumerate(batch_target_img_paths):\n",
    "            img = load_img(path, target_size=self.img_size, color_mode=\"grayscale\")\n",
    "            \n",
    "            #y[j] = np.expand_dims(img, 2)\n",
    "            y[j] = img  # original = above code --------------------------------------------------------------------\n",
    "\n",
    "        return x, y"
   ]
  },
  {
   "cell_type": "markdown",
   "metadata": {
    "id": "XezAH8QU01hg"
   },
   "source": [
    "## **Deep UNet model class**\n",
    "reference - https://github.com/reachsumit/deep-unet-for-satellite-image-segmentation/blob/master/unet_model_deeper.py"
   ]
  },
  {
   "cell_type": "code",
   "execution_count": 4,
   "metadata": {
    "id": "oOOz6-ce03Pz"
   },
   "outputs": [],
   "source": [
    "# u-net model with up-convolution or up-sampling and weighted binary-crossentropy as loss func\n",
    "\n",
    "from keras.models import Model\n",
    "from keras.layers import Input, Conv2D, MaxPooling2D, UpSampling2D, concatenate, Conv2DTranspose, BatchNormalization, Dropout\n",
    "#from keras.optimizers import Adam\n",
    "#from keras.utils import plot_model\n",
    "from keras import backend as K\n",
    "\n",
    "def unet_model(n_classes=2, \n",
    "               im_sz=512, \n",
    "               n_channels=3, \n",
    "               n_filters_start=32, \n",
    "               growth_factor=2, \n",
    "               upconv=True,\n",
    "               activation_fn = 'softmax'\n",
    "               #class_weights=[0.2, 0.3, 0.1, 0.1, 0.3]\n",
    "               ):\n",
    "  \n",
    "    droprate=0.25\n",
    "    n_filters = n_filters_start\n",
    "    inputs = Input((im_sz, im_sz, n_channels))\n",
    "    #inputs = BatchNormalization()(inputs)\n",
    "    conv1 = Conv2D(n_filters, (3, 3), activation='relu', padding='same')(inputs)\n",
    "    conv1 = Conv2D(n_filters, (3, 3), activation='relu', padding='same')(conv1)\n",
    "    pool1 = MaxPooling2D(pool_size=(2, 2))(conv1)\n",
    "    pool1 = Dropout(droprate)(pool1)\n",
    "\n",
    "    n_filters *= growth_factor\n",
    "    pool1 = BatchNormalization()(pool1)\n",
    "    conv2 = Conv2D(n_filters, (3, 3), activation='relu', padding='same')(pool1)\n",
    "    conv2 = Conv2D(n_filters, (3, 3), activation='relu', padding='same')(conv2)\n",
    "    pool2 = MaxPooling2D(pool_size=(2, 2))(conv2)\n",
    "    pool2 = Dropout(droprate)(pool2)\n",
    "\n",
    "    n_filters *= growth_factor\n",
    "    pool2 = BatchNormalization()(pool2)\n",
    "    conv3 = Conv2D(n_filters, (3, 3), activation='relu', padding='same')(pool2)\n",
    "    conv3 = Conv2D(n_filters, (3, 3), activation='relu', padding='same')(conv3)\n",
    "    pool3 = MaxPooling2D(pool_size=(2, 2))(conv3)\n",
    "    pool3 = Dropout(droprate)(pool3)\n",
    "\n",
    "    n_filters *= growth_factor\n",
    "    pool3 = BatchNormalization()(pool3)\n",
    "    conv4_0 = Conv2D(n_filters, (3, 3), activation='relu', padding='same')(pool3)\n",
    "    conv4_0 = Conv2D(n_filters, (3, 3), activation='relu', padding='same')(conv4_0)\n",
    "    pool4_0 = MaxPooling2D(pool_size=(2, 2))(conv4_0)\n",
    "    pool4_0 = Dropout(droprate)(pool4_0)\n",
    "\n",
    "    n_filters *= growth_factor\n",
    "    pool4_0 = BatchNormalization()(pool4_0)\n",
    "    conv4_1 = Conv2D(n_filters, (3, 3), activation='relu', padding='same')(pool4_0)\n",
    "    conv4_1 = Conv2D(n_filters, (3, 3), activation='relu', padding='same')(conv4_1)\n",
    "    pool4_1 = MaxPooling2D(pool_size=(2, 2))(conv4_1)\n",
    "    pool4_1 = Dropout(droprate)(pool4_1)\n",
    "\n",
    "    n_filters *= growth_factor\n",
    "    pool4_1 = BatchNormalization()(pool4_1)\n",
    "    conv4_2 = Conv2D(n_filters, (3, 3), activation='relu', padding='same')(pool4_1)\n",
    "    conv4_2 = Conv2D(n_filters, (3, 3), activation='relu', padding='same')(conv4_2)\n",
    "    pool4_2 = MaxPooling2D(pool_size=(2, 2))(conv4_2)\n",
    "    pool4_2 = Dropout(droprate)(pool4_2)\n",
    "\n",
    "    n_filters *= growth_factor\n",
    "    pool4_2 = BatchNormalization()(pool4_2)\n",
    "    conv5 = Conv2D(n_filters, (3, 3), activation='relu', padding='same')(pool4_2)\n",
    "    conv5 = Conv2D(n_filters, (3, 3), activation='relu', padding='same')(conv5)\n",
    "    conv5 = Dropout(droprate)(conv5)\n",
    "\n",
    "    n_filters //= growth_factor\n",
    "    if upconv:\n",
    "        up6 = concatenate([Conv2DTranspose(n_filters, (2, 2), strides=(2, 2), padding='same')(conv5), conv4_2])\n",
    "    else:\n",
    "        up6 = concatenate([UpSampling2D(size=(2, 2))(conv5), conv4_2])\n",
    "    up6 = BatchNormalization()(up6)\n",
    "    conv6 = Conv2D(n_filters, (3, 3), activation='relu', padding='same')(up6)\n",
    "    conv6 = Conv2D(n_filters, (3, 3), activation='relu', padding='same')(conv6)\n",
    "    conv6 = Dropout(droprate)(conv6)\n",
    "\n",
    "    n_filters //= growth_factor\n",
    "    if upconv:\n",
    "        up6_1 = concatenate([Conv2DTranspose(n_filters, (2, 2), strides=(2, 2), padding='same')(conv6), conv4_1])\n",
    "    else:\n",
    "        up6_1 = concatenate([UpSampling2D(size=(2, 2))(conv6), conv4_1])\n",
    "    up6_1 = BatchNormalization()(up6_1)\n",
    "    conv6_1 = Conv2D(n_filters, (3, 3), activation='relu', padding='same')(up6_1)\n",
    "    conv6_1 = Conv2D(n_filters, (3, 3), activation='relu', padding='same')(conv6_1)\n",
    "    conv6_1 = Dropout(droprate)(conv6_1)\n",
    "\n",
    "    n_filters //= growth_factor\n",
    "    if upconv:\n",
    "        up6_2 = concatenate([Conv2DTranspose(n_filters, (2, 2), strides=(2, 2), padding='same')(conv6_1), conv4_0])\n",
    "    else:\n",
    "        up6_2 = concatenate([UpSampling2D(size=(2, 2))(conv6_1), conv4_0])\n",
    "    up6_2 = BatchNormalization()(up6_2)\n",
    "    conv6_2 = Conv2D(n_filters, (3, 3), activation='relu', padding='same')(up6_2)\n",
    "    conv6_2 = Conv2D(n_filters, (3, 3), activation='relu', padding='same')(conv6_2)\n",
    "    conv6_2 = Dropout(droprate)(conv6_2)\n",
    "\n",
    "    n_filters //= growth_factor\n",
    "    if upconv:\n",
    "        up7 = concatenate([Conv2DTranspose(n_filters, (2, 2), strides=(2, 2), padding='same')(conv6_2), conv3])\n",
    "    else:\n",
    "        up7 = concatenate([UpSampling2D(size=(2, 2))(conv6_2), conv3])\n",
    "    up7 = BatchNormalization()(up7)\n",
    "    conv7 = Conv2D(n_filters, (3, 3), activation='relu', padding='same')(up7)\n",
    "    conv7 = Conv2D(n_filters, (3, 3), activation='relu', padding='same')(conv7)\n",
    "    conv7 = Dropout(droprate)(conv7)\n",
    "\n",
    "    n_filters //= growth_factor\n",
    "    if upconv:\n",
    "        up8 = concatenate([Conv2DTranspose(n_filters, (2, 2), strides=(2, 2), padding='same')(conv7), conv2])\n",
    "    else:\n",
    "        up8 = concatenate([UpSampling2D(size=(2, 2))(conv7), conv2])\n",
    "    up8 = BatchNormalization()(up8)\n",
    "    conv8 = Conv2D(n_filters, (3, 3), activation='relu', padding='same')(up8)\n",
    "    conv8 = Conv2D(n_filters, (3, 3), activation='relu', padding='same')(conv8)\n",
    "    conv8 = Dropout(droprate)(conv8)\n",
    "\n",
    "    n_filters //= growth_factor\n",
    "    if upconv:\n",
    "        up9 = concatenate([Conv2DTranspose(n_filters, (2, 2), strides=(2, 2), padding='same')(conv8), conv1])\n",
    "    else:\n",
    "        up9 = concatenate([UpSampling2D(size=(2, 2))(conv8), conv1])\n",
    "    up9 = BatchNormalization()(up9)\n",
    "    conv9 = Conv2D(n_filters, (3, 3), activation='relu', padding='same')(up9)\n",
    "    conv9 = Conv2D(n_filters, (3, 3), activation='relu', padding='same')(conv9)\n",
    "\n",
    "    conv10 = Conv2D(n_classes, (1, 1), activation=activation_fn)(conv9)\n",
    "\n",
    "    model = Model(inputs=inputs, outputs=conv10)\n",
    "\n",
    "    # def weighted_binary_crossentropy(y_true, y_pred):\n",
    "    #     class_loglosses = K.mean(K.binary_crossentropy(y_true, y_pred), axis=[0, 1, 2])\n",
    "    #     return K.sum(class_loglosses * K.constant(class_weights))\n",
    "\n",
    "    # model.compile(optimizer=Adam(), loss=weighted_binary_crossentropy)\n",
    "    \n",
    "    return model"
   ]
  },
  {
   "cell_type": "code",
   "execution_count": 5,
   "metadata": {
    "id": "iLFQlVyX2DiR"
   },
   "outputs": [],
   "source": [
    "import random\n",
    "\n",
    "img_size = (512, 512)\n",
    "num_classes = 1\n",
    "batch_size = 9\n",
    "\n",
    "# Split our img paths into a training and a validation set\n",
    "val_samples = 2\n",
    "\n",
    "random.Random(1337).shuffle(image_paths)\n",
    "random.Random(1337).shuffle(mask_paths)\n",
    "\n",
    "train_image_paths = image_paths[:-val_samples]\n",
    "train_mask_paths = mask_paths[:-val_samples]\n",
    "\n",
    "val_image_paths = image_paths[-val_samples:]\n",
    "val_mask_paths = mask_paths[-val_samples:]\n",
    "\n",
    "# Instantiate data Sequences for each split\n",
    "train_gen = BuildingDataset(batch_size,\n",
    "                            img_size,\n",
    "                            train_image_paths,\n",
    "                            train_mask_paths)\n",
    "\n",
    "val_gen = BuildingDataset(batch_size,\n",
    "                          img_size,\n",
    "                          val_image_paths,\n",
    "                          val_mask_paths)"
   ]
  },
  {
   "cell_type": "code",
   "execution_count": 6,
   "metadata": {
    "colab": {
     "base_uri": "https://localhost:8080/"
    },
    "collapsed": true,
    "id": "elTPldOq2Imf",
    "outputId": "f408a8a4-159e-42f8-f934-70682f0632e1"
   },
   "outputs": [
    {
     "name": "stdout",
     "output_type": "stream",
     "text": [
      "Epoch 1/10\n",
      "2/2 [==============================] - 60s 2s/step - loss: 0.5938\n",
      "Epoch 2/10\n",
      "2/2 [==============================] - 4s 2s/step - loss: 0.3423\n",
      "Epoch 3/10\n",
      "2/2 [==============================] - 4s 2s/step - loss: 0.2507\n",
      "Epoch 4/10\n",
      "2/2 [==============================] - 4s 2s/step - loss: 0.1971\n",
      "Epoch 5/10\n",
      "2/2 [==============================] - 4s 2s/step - loss: 0.2158\n",
      "Epoch 6/10\n",
      "2/2 [==============================] - 4s 2s/step - loss: 0.1832\n",
      "Epoch 7/10\n",
      "2/2 [==============================] - 4s 2s/step - loss: 0.1813\n",
      "Epoch 8/10\n",
      "2/2 [==============================] - 5s 2s/step - loss: 0.1444\n",
      "Epoch 9/10\n",
      "2/2 [==============================] - 4s 2s/step - loss: 0.1214\n",
      "Epoch 10/10\n",
      "2/2 [==============================] - 4s 2s/step - loss: 0.1303\n"
     ]
    },
    {
     "data": {
      "text/plain": [
       "<keras.callbacks.History at 0x7f65104c88d0>"
      ]
     },
     "execution_count": 6,
     "metadata": {
      "tags": []
     },
     "output_type": "execute_result"
    }
   ],
   "source": [
    "# Configure the model for training.\n",
    "# We use the \"sparse\" version of categorical_crossentropy\n",
    "# because our target data is integers.\n",
    "\n",
    "optimizer = 'adam'\n",
    "loss = 'binary_crossentropy'\n",
    "activation_function = 'sigmoid'\n",
    "epochs = 10\n",
    "\n",
    "model = unet_model(n_classes = num_classes,\n",
    "                   im_sz = img_size[0],\n",
    "                   n_channels = 3,\n",
    "                   n_filters_start = 32,\n",
    "                   activation_fn = activation_function)\n",
    "\n",
    "model.compile(optimizer = optimizer, \n",
    "              loss = loss)\n",
    "\n",
    "# callbacks = [\n",
    "#     keras.callbacks.ModelCheckpoint(\"oxford_segmentation.h5\", save_best_only=True)\n",
    "# ]\n",
    "\n",
    "# Train the model, doing validation at the end of each epoch.\n",
    "model.fit(train_gen, \n",
    "          epochs=epochs, \n",
    "          validation_data=val_gen,\n",
    "          #callbacks=callbacks, \n",
    "          verbose = 1)"
   ]
  },
  {
   "cell_type": "markdown",
   "metadata": {
    "id": "MdyKAC1PKb7w"
   },
   "source": [
    "## **Inference on a single tile**"
   ]
  },
  {
   "cell_type": "code",
   "execution_count": 11,
   "metadata": {
    "colab": {
     "base_uri": "https://localhost:8080/",
     "height": 167
    },
    "id": "qWbFtiPk2Uzc",
    "outputId": "ea06a8be-1e6d-493f-da7d-f6ba6f42c117"
   },
   "outputs": [
    {
     "data": {
      "text/plain": [
       "<matplotlib.image.AxesImage at 0x7f64ce474a90>"
      ]
     },
     "execution_count": 11,
     "metadata": {
      "tags": []
     },
     "output_type": "execute_result"
    },
    {
     "data": {
      "image/png": "[encoded data removed]",
      "text/plain": [
       "<Figure size 432x288 with 3 Axes>"
      ]
     },
     "metadata": {
      "needs_background": "light",
      "tags": []
     },
     "output_type": "display_data"
    }
   ],
   "source": [
    "from PIL import Image\n",
    "import numpy as np\n",
    "import matplotlib.pyplot as plt\n",
    "\n",
    "idx = '00005'\n",
    "\n",
    "val_img_dir = f'{images_dir}/processed_image+final_{idx}_a0.png'\n",
    "val_mask_dir = f'{masks_dir}/mask_{idx}_a0.png'\n",
    "\n",
    "threshold = 0.95\n",
    "\n",
    "# read validation image and mask\n",
    "pil_img = Image.open(val_img_dir)\n",
    "ground_truth = Image.open(val_mask_dir)\n",
    "\n",
    "# make predictions\n",
    "pred_img = np.expand_dims(pil_img, axis = 0)\n",
    "val_preds = model.predict(pred_img)\n",
    "val_preds = np.squeeze(val_preds)\n",
    "val_preds = val_preds > threshold\n",
    "\n",
    "# Plot the results\n",
    "fig, (ax1, ax2, ax3) = plt.subplots(1, 3)\n",
    "ax1.imshow(pil_img)\n",
    "ax2.imshow(val_preds)\n",
    "ax3.imshow(ground_truth)"
   ]
  },
  {
   "cell_type": "code",
   "execution_count": null,
   "metadata": {
    "id": "C55dwKG9-VjC"
   },
   "outputs": [],
   "source": []
  }
 ],
 "metadata": {
  "accelerator": "GPU",
  "colab": {
   "collapsed_sections": [],
   "name": "Deep UNet.ipynb",
   "provenance": []
  },
  "kernelspec": {
   "display_name": "Python 3",
   "language": "python",
   "name": "python3"
  },
  "language_info": {
   "codemirror_mode": {
    "name": "ipython",
    "version": 3
   },
   "file_extension": ".py",
   "mimetype": "text/x-python",
   "name": "python",
   "nbconvert_exporter": "python",
   "pygments_lexer": "ipython3",
   "version": "3.8.5"
  }
 },
 "nbformat": 4,
 "nbformat_minor": 1
}
