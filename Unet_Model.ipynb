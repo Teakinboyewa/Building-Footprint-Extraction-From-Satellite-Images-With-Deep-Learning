{
  "nbformat": 4,
  "nbformat_minor": 0,
  "metadata": {
    "accelerator": "TPU",
    "colab": {
      "name": "Unet Model.ipynb",
      "provenance": [],
      "mount_file_id": "1okaqNQ6gz0l8Pz0nezUkZ1shDCM9o3zb",
      "authorship_tag": "ABX9TyMQy9nvzFM/yLMHTH7F+1Cf",
      "include_colab_link": true
    },
    "kernelspec": {
      "display_name": "Python 3",
      "name": "python3"
    },
    "language_info": {
      "name": "python"
    }
  },
  "cells": [
    {
      "cell_type": "markdown",
      "metadata": {
        "id": "view-in-github",
        "colab_type": "text"
      },
      "source": [
        "<a href=\"https://colab.research.google.com/github/Aye-Nyein-Thaw/Building-Footprint-Extraction-Practical-Project/blob/toby/Unet_Model.ipynb\" target=\"_parent\"><img src=\"https://colab.research.google.com/assets/colab-badge.svg\" alt=\"Open In Colab\"/></a>"
      ]
    },
    {
      "cell_type": "code",
      "metadata": {
        "id": "UXzZncxF4UFa"
      },
      "source": [
        "import tensorflow as tf\n",
        "import os\n",
        "from PIL import Image\n",
        "import matplotlib.pyplot as plt\n",
        "import numpy as np\n",
        "from tqdm import tqdm"
      ],
      "execution_count": 105,
      "outputs": []
    },
    {
      "cell_type": "code",
      "metadata": {
        "id": "eiDqnHZVLQ4H"
      },
      "source": [
        "os.chdir('/content/drive/MyDrive/Unet_test/2.Image part')"
      ],
      "execution_count": 106,
      "outputs": []
    },
    {
      "cell_type": "code",
      "metadata": {
        "colab": {
          "base_uri": "https://localhost:8080/"
        },
        "id": "AnWQwj86Lpa1",
        "outputId": "967446af-a194-43e6-9133-c72a57337efd"
      },
      "source": [
        "ls"
      ],
      "execution_count": 107,
      "outputs": [
        {
          "output_type": "stream",
          "text": [
            "\u001b[0m\u001b[01;34m'Binary Mask'\u001b[0m/  \u001b[01;34m'Processed Image'\u001b[0m/\n"
          ],
          "name": "stdout"
        }
      ]
    },
    {
      "cell_type": "code",
      "metadata": {
        "colab": {
          "base_uri": "https://localhost:8080/"
        },
        "id": "NNex14z9LqVm",
        "outputId": "ac643ae9-6c8b-41de-b914-a8f6ce017cc7"
      },
      "source": [
        "train_path = 'Processed Image/'\n",
        "test_path = 'Binary Mask/'\n",
        "\n",
        "img_height =512 \n",
        "img_width = 512\n",
        "img_channels = 3\n",
        "\n",
        "train_ids = sorted(next(os.walk(train_path)) [2])\n",
        "print(train_ids[0])\n",
        "test_ids = sorted(next(os.walk(test_path)) [2])\n",
        "print(test_ids[0])"
      ],
      "execution_count": 108,
      "outputs": [
        {
          "output_type": "stream",
          "text": [
            "processed_image+final_00001_a0.png\n",
            "mask_00001_a0.png\n"
          ],
          "name": "stdout"
        }
      ]
    },
    {
      "cell_type": "code",
      "metadata": {
        "colab": {
          "base_uri": "https://localhost:8080/"
        },
        "id": "PCjVEMfGXtxG",
        "outputId": "8e2b80c6-e685-4c05-e6ea-2bdc22014d93"
      },
      "source": [
        "sorted(test_ids)"
      ],
      "execution_count": 109,
      "outputs": [
        {
          "output_type": "execute_result",
          "data": {
            "text/plain": [
              "['mask_00001_a0.png',\n",
              " 'mask_00002_a0.png',\n",
              " 'mask_00003_a0.png',\n",
              " 'mask_00004_a0.png',\n",
              " 'mask_00005_a0.png',\n",
              " 'mask_00006_a0.png',\n",
              " 'mask_00007_a0.png',\n",
              " 'mask_00008_a0.png',\n",
              " 'mask_00009_a0.png',\n",
              " 'mask_00010_a0.png',\n",
              " 'mask_00011_a0.png',\n",
              " 'mask_00012_a0.png',\n",
              " 'mask_00013_a0.png',\n",
              " 'mask_00014_a0.png',\n",
              " 'mask_00015_a0.png',\n",
              " 'mask_00016_a0.png',\n",
              " 'mask_00017_a0.png',\n",
              " 'mask_00018_a0.png',\n",
              " 'mask_00019_a0.png',\n",
              " 'mask_00020_a0.png']"
            ]
          },
          "metadata": {
            "tags": []
          },
          "execution_count": 109
        }
      ]
    },
    {
      "cell_type": "code",
      "metadata": {
        "colab": {
          "base_uri": "https://localhost:8080/"
        },
        "id": "wnr4GzxiYtS5",
        "outputId": "eb854211-128d-4af8-d902-9811981dc6fd"
      },
      "source": [
        "train_ids"
      ],
      "execution_count": 110,
      "outputs": [
        {
          "output_type": "execute_result",
          "data": {
            "text/plain": [
              "['processed_image+final_00001_a0.png',\n",
              " 'processed_image+final_00002_a0.png',\n",
              " 'processed_image+final_00003_a0.png',\n",
              " 'processed_image+final_00004_a0.png',\n",
              " 'processed_image+final_00005_a0.png',\n",
              " 'processed_image+final_00006_a0.png',\n",
              " 'processed_image+final_00007_a0.png',\n",
              " 'processed_image+final_00008_a0.png',\n",
              " 'processed_image+final_00009_a0.png',\n",
              " 'processed_image+final_00010_a0.png',\n",
              " 'processed_image+final_00011_a0.png',\n",
              " 'processed_image+final_00012_a0.png',\n",
              " 'processed_image+final_00013_a0.png',\n",
              " 'processed_image+final_00014_a0.png',\n",
              " 'processed_image+final_00015_a0.png',\n",
              " 'processed_image+final_00016_a0.png',\n",
              " 'processed_image+final_00017_a0.png',\n",
              " 'processed_image+final_00018_a0.png',\n",
              " 'processed_image+final_00019_a0.png',\n",
              " 'processed_image+final_00020_a0.png']"
            ]
          },
          "metadata": {
            "tags": []
          },
          "execution_count": 110
        }
      ]
    },
    {
      "cell_type": "code",
      "metadata": {
        "colab": {
          "base_uri": "https://localhost:8080/"
        },
        "id": "S2VRZUxaLtYe",
        "outputId": "f8db402e-029e-4721-f324-910580a5a927"
      },
      "source": [
        "print(len(train_ids))\n",
        "print(len(test_ids))\n"
      ],
      "execution_count": 111,
      "outputs": [
        {
          "output_type": "stream",
          "text": [
            "20\n",
            "20\n"
          ],
          "name": "stdout"
        }
      ]
    },
    {
      "cell_type": "code",
      "metadata": {
        "id": "w5Q-1ZSiLvAz"
      },
      "source": [
        "X_train = np.zeros((len(train_ids),img_height, img_width, img_channels ), dtype=np.uint8)\n",
        "Y_train = np.zeros((len(test_ids),img_height,img_width),dtype=np.uint8)"
      ],
      "execution_count": 112,
      "outputs": []
    },
    {
      "cell_type": "code",
      "metadata": {
        "colab": {
          "base_uri": "https://localhost:8080/"
        },
        "id": "8iZdZFANLwaj",
        "outputId": "03852224-a7d8-4174-e99c-8a5562be83ad"
      },
      "source": [
        "for n, id_ in tqdm(enumerate(train_ids), total=len(train_ids)):\n",
        "    path = train_path + id_\n",
        "    print(path)\n",
        "    img = Image.open(path)\n",
        "    X_train[n]=img"
      ],
      "execution_count": 113,
      "outputs": [
        {
          "output_type": "stream",
          "text": [
            "\r  0%|          | 0/20 [00:00<?, ?it/s]"
          ],
          "name": "stderr"
        },
        {
          "output_type": "stream",
          "text": [
            "Processed Image/processed_image+final_00001_a0.png\n",
            "Processed Image/processed_image+final_00002_a0.png\n",
            "Processed Image/processed_image+final_00003_a0.png\n",
            "Processed Image/processed_image+final_00004_a0.png\n",
            "Processed Image/processed_image+final_00005_a0.png\n",
            "Processed Image/processed_image+final_00006_a0.png\n"
          ],
          "name": "stdout"
        },
        {
          "output_type": "stream",
          "text": [
            "\r 30%|███       | 6/20 [00:00<00:00, 57.18it/s]"
          ],
          "name": "stderr"
        },
        {
          "output_type": "stream",
          "text": [
            "Processed Image/processed_image+final_00007_a0.png\n",
            "Processed Image/processed_image+final_00008_a0.png\n",
            "Processed Image/processed_image+final_00009_a0.png\n",
            "Processed Image/processed_image+final_00010_a0.png\n",
            "Processed Image/processed_image+final_00011_a0.png\n",
            "Processed Image/processed_image+final_00012_a0.png\n"
          ],
          "name": "stdout"
        },
        {
          "output_type": "stream",
          "text": [
            "\r 60%|██████    | 12/20 [00:00<00:00, 56.66it/s]"
          ],
          "name": "stderr"
        },
        {
          "output_type": "stream",
          "text": [
            "Processed Image/processed_image+final_00013_a0.png\n",
            "Processed Image/processed_image+final_00014_a0.png\n",
            "Processed Image/processed_image+final_00015_a0.png\n",
            "Processed Image/processed_image+final_00016_a0.png\n",
            "Processed Image/processed_image+final_00017_a0.png\n",
            "Processed Image/processed_image+final_00018_a0.png\n"
          ],
          "name": "stdout"
        },
        {
          "output_type": "stream",
          "text": [
            "100%|██████████| 20/20 [00:00<00:00, 59.15it/s]"
          ],
          "name": "stderr"
        },
        {
          "output_type": "stream",
          "text": [
            "Processed Image/processed_image+final_00019_a0.png\n",
            "Processed Image/processed_image+final_00020_a0.png\n"
          ],
          "name": "stdout"
        },
        {
          "output_type": "stream",
          "text": [
            "\n"
          ],
          "name": "stderr"
        }
      ]
    },
    {
      "cell_type": "code",
      "metadata": {
        "colab": {
          "base_uri": "https://localhost:8080/"
        },
        "id": "TEb-fNYCLy4t",
        "outputId": "ef72f41e-964b-4687-8651-57abc046d2e6"
      },
      "source": [
        "for n, id_ in tqdm(enumerate(test_ids), total=len(test_ids)):\n",
        "    path_test = test_path + id_\n",
        "    print(path_test)\n",
        "    mask = Image.open(path_test)\n",
        "    Y_train[n]=mask"
      ],
      "execution_count": 114,
      "outputs": [
        {
          "output_type": "stream",
          "text": [
            "\r  0%|          | 0/20 [00:00<?, ?it/s]"
          ],
          "name": "stderr"
        },
        {
          "output_type": "stream",
          "text": [
            "Binary Mask/mask_00001_a0.png\n",
            "Binary Mask/mask_00002_a0.png\n",
            "Binary Mask/mask_00003_a0.png\n",
            "Binary Mask/mask_00004_a0.png\n",
            "Binary Mask/mask_00005_a0.png\n",
            "Binary Mask/mask_00006_a0.png\n",
            "Binary Mask/mask_00007_a0.png\n",
            "Binary Mask/mask_00008_a0.png\n",
            "Binary Mask/mask_00009_a0.png\n",
            "Binary Mask/mask_00010_a0.png\n",
            "Binary Mask/mask_00011_a0.png\n",
            "Binary Mask/mask_00012_a0.png\n",
            "Binary Mask/mask_00013_a0.png\n",
            "Binary Mask/mask_00014_a0.png\n",
            "Binary Mask/mask_00015_a0.png\n",
            "Binary Mask/mask_00016_a0.png\n",
            "Binary Mask/mask_00017_a0.png\n",
            "Binary Mask/mask_00018_a0.png\n",
            "Binary Mask/mask_00019_a0.png\n"
          ],
          "name": "stdout"
        },
        {
          "output_type": "stream",
          "text": [
            "\r100%|██████████| 20/20 [00:00<00:00, 308.85it/s]"
          ],
          "name": "stderr"
        },
        {
          "output_type": "stream",
          "text": [
            "Binary Mask/mask_00020_a0.png\n"
          ],
          "name": "stdout"
        },
        {
          "output_type": "stream",
          "text": [
            "\n"
          ],
          "name": "stderr"
        }
      ]
    },
    {
      "cell_type": "code",
      "metadata": {
        "colab": {
          "base_uri": "https://localhost:8080/",
          "height": 204
        },
        "id": "3TuuRdl-L8my",
        "outputId": "b2c139e8-1bb4-47bb-c684-a3f1cab0de01"
      },
      "source": [
        "def plotting (x ,y):\n",
        "  n = np.random.randint(0,20)\n",
        "  plt.subplot(121)\n",
        "  plt.imshow(x[n])\n",
        "  plt.subplot(122)\n",
        "  plt.imshow(y[n])\n",
        "\n",
        "plotting(X_train,Y_train)"
      ],
      "execution_count": 368,
      "outputs": [
        {
          "output_type": "display_data",
          "data": {
            "image/png": "[encoded data removed]",
            "text/plain": [
              "<Figure size 432x288 with 2 Axes>"
            ]
          },
          "metadata": {
            "tags": [],
            "needs_background": "light"
          }
        }
      ]
    },
    {
      "cell_type": "code",
      "metadata": {
        "colab": {
          "base_uri": "https://localhost:8080/",
          "height": 204
        },
        "id": "yv0RKBZWNGRA",
        "outputId": "77d258f4-f6f0-4002-c7a6-a4fd265d4c8c"
      },
      "source": [
        "X_train_new = X_train/255\n",
        "Y_train_new = Y_train/255\n",
        "plotting(X_train_new,Y_train_new)\n",
        "\n",
        "img_size = 512\n",
        "num_classes =2 \n"
      ],
      "execution_count": 372,
      "outputs": [
        {
          "output_type": "display_data",
          "data": {
            "image/png": "[encoded data removed]",
            "text/plain": [
              "<Figure size 432x288 with 2 Axes>"
            ]
          },
          "metadata": {
            "tags": [],
            "needs_background": "light"
          }
        }
      ]
    },
    {
      "cell_type": "code",
      "metadata": {
        "colab": {
          "base_uri": "https://localhost:8080/"
        },
        "id": "Yp2qp4ISMXTV",
        "outputId": "c6420c69-76a2-453f-ac18-fd4f2b386972"
      },
      "source": [
        "print(X_train_new[n].shape)\n",
        "print(Y_train_new[n].shape)"
      ],
      "execution_count": 117,
      "outputs": [
        {
          "output_type": "stream",
          "text": [
            "(512, 512, 3)\n",
            "(512, 512)\n"
          ],
          "name": "stdout"
        }
      ]
    },
    {
      "cell_type": "code",
      "metadata": {
        "id": "Z2AX35vLNel5"
      },
      "source": [
        "from keras.models import Model\n",
        "from keras.layers import Input, Conv2D, MaxPooling2D, UpSampling2D, concatenate, Conv2DTranspose, BatchNormalization, Dropout\n",
        "from keras.optimizers import Adam\n",
        "#from keras.utils import plot_model\n",
        "from keras import backend as K\n",
        "import tensorflow as tf\n",
        "\n",
        "\n",
        "def unet_model(n_classes=2, im_sz=512, n_channels=3, n_filters_start=32, growth_factor=2, upconv=True,\n",
        "               class_weights=[0.2, 0.3, 0.1, 0.1, 0.3]):\n",
        "    droprate=0.25\n",
        "    n_filters = n_filters_start\n",
        "    inputs = Input((im_sz, im_sz, n_channels))\n",
        "    #inputs = BatchNormalization()(inputs)\n",
        "    conv1 = Conv2D(n_filters, (3, 3), activation='relu', padding='same')(inputs)\n",
        "    conv1 = Conv2D(n_filters, (3, 3), activation='relu', padding='same')(conv1)\n",
        "    pool1 = MaxPooling2D(pool_size=(2, 2))(conv1)\n",
        "    #pool1 = Dropout(droprate)(pool1)\n",
        "\n",
        "    n_filters *= growth_factor\n",
        "    pool1 = BatchNormalization()(pool1)\n",
        "    conv2 = Conv2D(n_filters, (3, 3), activation='relu', padding='same')(pool1)\n",
        "    conv2 = Conv2D(n_filters, (3, 3), activation='relu', padding='same')(conv2)\n",
        "    pool2 = MaxPooling2D(pool_size=(2, 2))(conv2)\n",
        "    pool2 = Dropout(droprate)(pool2)\n",
        "\n",
        "    n_filters *= growth_factor\n",
        "    pool2 = BatchNormalization()(pool2)\n",
        "    conv3 = Conv2D(n_filters, (3, 3), activation='relu', padding='same')(pool2)\n",
        "    conv3 = Conv2D(n_filters, (3, 3), activation='relu', padding='same')(conv3)\n",
        "    pool3 = MaxPooling2D(pool_size=(2, 2))(conv3)\n",
        "    pool3 = Dropout(droprate)(pool3)\n",
        "\n",
        "    n_filters *= growth_factor\n",
        "    pool3 = BatchNormalization()(pool3)\n",
        "    conv4_0 = Conv2D(n_filters, (3, 3), activation='relu', padding='same')(pool3)\n",
        "    conv4_0 = Conv2D(n_filters, (3, 3), activation='relu', padding='same')(conv4_0)\n",
        "    pool4_1 = MaxPooling2D(pool_size=(2, 2))(conv4_0)\n",
        "    pool4_1 = Dropout(droprate)(pool4_1)\n",
        "\n",
        "    n_filters *= growth_factor\n",
        "    pool4_1 = BatchNormalization()(pool4_1)\n",
        "    conv4_1 = Conv2D(n_filters, (3, 3), activation='relu', padding='same')(pool4_1)\n",
        "    conv4_1 = Conv2D(n_filters, (3, 3), activation='relu', padding='same')(conv4_1)\n",
        "    pool4_2 = MaxPooling2D(pool_size=(2, 2))(conv4_1)\n",
        "    pool4_2 = Dropout(droprate)(pool4_2)\n",
        "\n",
        "    n_filters *= growth_factor\n",
        "    conv5 = Conv2D(n_filters, (3, 3), activation='relu', padding='same')(pool4_2)\n",
        "    conv5 = Conv2D(n_filters, (3, 3), activation='relu', padding='same')(conv5)\n",
        "\n",
        "    n_filters //= growth_factor\n",
        "    if upconv:\n",
        "        up6_1 = concatenate([Conv2DTranspose(n_filters, (2, 2), strides=(2, 2), padding='same')(conv5), conv4_1])\n",
        "    else:\n",
        "        up6_1 = concatenate([UpSampling2D(size=(2, 2))(conv5), conv4_1])\n",
        "    up6_1 = BatchNormalization()(up6_1)\n",
        "    conv6_1 = Conv2D(n_filters, (3, 3), activation='relu', padding='same')(up6_1)\n",
        "    conv6_1 = Conv2D(n_filters, (3, 3), activation='relu', padding='same')(conv6_1)\n",
        "    conv6_1 = Dropout(droprate)(conv6_1)\n",
        "\n",
        "    n_filters //= growth_factor\n",
        "    if upconv:\n",
        "        up6_2 = concatenate([Conv2DTranspose(n_filters, (2, 2), strides=(2, 2), padding='same')(conv6_1), conv4_0])\n",
        "    else:\n",
        "        up6_2 = concatenate([UpSampling2D(size=(2, 2))(conv6_1), conv4_0])\n",
        "    up6_2 = BatchNormalization()(up6_2)\n",
        "    conv6_2 = Conv2D(n_filters, (3, 3), activation='relu', padding='same')(up6_2)\n",
        "    conv6_2 = Conv2D(n_filters, (3, 3), activation='relu', padding='same')(conv6_2)\n",
        "    conv6_2 = Dropout(droprate)(conv6_2)\n",
        "\n",
        "    n_filters //= growth_factor\n",
        "    if upconv:\n",
        "        up7 = concatenate([Conv2DTranspose(n_filters, (2, 2), strides=(2, 2), padding='same')(conv6_2), conv3])\n",
        "    else:\n",
        "        up7 = concatenate([UpSampling2D(size=(2, 2))(conv6_2), conv3])\n",
        "    up7 = BatchNormalization()(up7)\n",
        "    conv7 = Conv2D(n_filters, (3, 3), activation='relu', padding='same')(up7)\n",
        "    conv7 = Conv2D(n_filters, (3, 3), activation='relu', padding='same')(conv7)\n",
        "    conv7 = Dropout(droprate)(conv7)\n",
        "\n",
        "    n_filters //= growth_factor\n",
        "    if upconv:\n",
        "        up8 = concatenate([Conv2DTranspose(n_filters, (2, 2), strides=(2, 2), padding='same')(conv7), conv2])\n",
        "    else:\n",
        "        up8 = concatenate([UpSampling2D(size=(2, 2))(conv7), conv2])\n",
        "    up8 = BatchNormalization()(up8)\n",
        "    conv8 = Conv2D(n_filters, (3, 3), activation='relu', padding='same')(up8)\n",
        "    conv8 = Conv2D(n_filters, (3, 3), activation='relu', padding='same')(conv8)\n",
        "    conv8 = Dropout(droprate)(conv8)\n",
        "\n",
        "    n_filters //= growth_factor\n",
        "    if upconv:\n",
        "        up9 = concatenate([Conv2DTranspose(n_filters, (2, 2), strides=(2, 2), padding='same')(conv8), conv1])\n",
        "    else:\n",
        "        up9 = concatenate([UpSampling2D(size=(2, 2))(conv8), conv1])\n",
        "    conv9 = Conv2D(n_filters, (3, 3), activation='relu', padding='same')(up9)\n",
        "    conv9 = Conv2D(n_filters, (3, 3), activation='relu', padding='same')(conv9)\n",
        "\n",
        "    conv10 = Conv2D(n_classes, (1, 1), activation='sigmoid')(conv9)\n",
        "\n",
        "    model = Model(inputs=inputs, outputs=conv10)\n",
        "\n",
        "    def weighted_binary_crossentropy(y_true, y_pred):\n",
        "        class_loglosses = K.mean(K.binary_crossentropy(y_true, y_pred), axis=[0, 1, 2])\n",
        "        return K.sum(class_loglosses * K.constant(class_weights))\n",
        "\n",
        "    model.compile(optimizer=Adam(), loss=weighted_binary_crossentropy)\n",
        "    return model"
      ],
      "execution_count": 118,
      "outputs": []
    },
    {
      "cell_type": "code",
      "metadata": {
        "id": "IV0t2tvUO1kT"
      },
      "source": [
        "N_BANDS = 3\n",
        "N_CLASSES = 2  # buildings, roads, trees, crops and water\n",
        "CLASS_WEIGHTS = [0.2, 0.3, 0.1, 0.1, 0.3]\n",
        "N_EPOCHS = 150\n",
        "UPCONV = True\n",
        "PATCH_SZ = 512   # should divide by 16\n",
        "BATCH_SIZE = 150\n",
        "TRAIN_SZ = 4000  # train size\n",
        "VAL_SZ = 1000    # validation size\n",
        "\n",
        "\n",
        "def get_model():\n",
        "    return unet_model(N_CLASSES, PATCH_SZ, n_channels=N_BANDS, upconv=UPCONV, class_weights=CLASS_WEIGHTS)\n",
        "\n",
        "model = get_model()"
      ],
      "execution_count": 119,
      "outputs": []
    },
    {
      "cell_type": "code",
      "metadata": {
        "colab": {
          "base_uri": "https://localhost:8080/"
        },
        "id": "RLhwPKXfTM0h",
        "outputId": "e533f2d0-7193-4f06-facc-38174a89763f"
      },
      "source": [
        "opt = tf.keras.optimizers.Adam()\n",
        "model.compile(loss='sparse_categorical_crossentropy', optimizer=opt,metrics=['accuracy'])\n",
        "model.summary()"
      ],
      "execution_count": 120,
      "outputs": [
        {
          "output_type": "stream",
          "text": [
            "Model: \"model_1\"\n",
            "__________________________________________________________________________________________________\n",
            "Layer (type)                    Output Shape         Param #     Connected to                     \n",
            "==================================================================================================\n",
            "input_2 (InputLayer)            [(None, 512, 512, 3) 0                                            \n",
            "__________________________________________________________________________________________________\n",
            "conv2d_23 (Conv2D)              (None, 512, 512, 32) 896         input_2[0][0]                    \n",
            "__________________________________________________________________________________________________\n",
            "conv2d_24 (Conv2D)              (None, 512, 512, 32) 9248        conv2d_23[0][0]                  \n",
            "__________________________________________________________________________________________________\n",
            "max_pooling2d_5 (MaxPooling2D)  (None, 256, 256, 32) 0           conv2d_24[0][0]                  \n",
            "__________________________________________________________________________________________________\n",
            "batch_normalization_8 (BatchNor (None, 256, 256, 32) 128         max_pooling2d_5[0][0]            \n",
            "__________________________________________________________________________________________________\n",
            "conv2d_25 (Conv2D)              (None, 256, 256, 64) 18496       batch_normalization_8[0][0]      \n",
            "__________________________________________________________________________________________________\n",
            "conv2d_26 (Conv2D)              (None, 256, 256, 64) 36928       conv2d_25[0][0]                  \n",
            "__________________________________________________________________________________________________\n",
            "max_pooling2d_6 (MaxPooling2D)  (None, 128, 128, 64) 0           conv2d_26[0][0]                  \n",
            "__________________________________________________________________________________________________\n",
            "dropout_8 (Dropout)             (None, 128, 128, 64) 0           max_pooling2d_6[0][0]            \n",
            "__________________________________________________________________________________________________\n",
            "batch_normalization_9 (BatchNor (None, 128, 128, 64) 256         dropout_8[0][0]                  \n",
            "__________________________________________________________________________________________________\n",
            "conv2d_27 (Conv2D)              (None, 128, 128, 128 73856       batch_normalization_9[0][0]      \n",
            "__________________________________________________________________________________________________\n",
            "conv2d_28 (Conv2D)              (None, 128, 128, 128 147584      conv2d_27[0][0]                  \n",
            "__________________________________________________________________________________________________\n",
            "max_pooling2d_7 (MaxPooling2D)  (None, 64, 64, 128)  0           conv2d_28[0][0]                  \n",
            "__________________________________________________________________________________________________\n",
            "dropout_9 (Dropout)             (None, 64, 64, 128)  0           max_pooling2d_7[0][0]            \n",
            "__________________________________________________________________________________________________\n",
            "batch_normalization_10 (BatchNo (None, 64, 64, 128)  512         dropout_9[0][0]                  \n",
            "__________________________________________________________________________________________________\n",
            "conv2d_29 (Conv2D)              (None, 64, 64, 256)  295168      batch_normalization_10[0][0]     \n",
            "__________________________________________________________________________________________________\n",
            "conv2d_30 (Conv2D)              (None, 64, 64, 256)  590080      conv2d_29[0][0]                  \n",
            "__________________________________________________________________________________________________\n",
            "max_pooling2d_8 (MaxPooling2D)  (None, 32, 32, 256)  0           conv2d_30[0][0]                  \n",
            "__________________________________________________________________________________________________\n",
            "dropout_10 (Dropout)            (None, 32, 32, 256)  0           max_pooling2d_8[0][0]            \n",
            "__________________________________________________________________________________________________\n",
            "batch_normalization_11 (BatchNo (None, 32, 32, 256)  1024        dropout_10[0][0]                 \n",
            "__________________________________________________________________________________________________\n",
            "conv2d_31 (Conv2D)              (None, 32, 32, 512)  1180160     batch_normalization_11[0][0]     \n",
            "__________________________________________________________________________________________________\n",
            "conv2d_32 (Conv2D)              (None, 32, 32, 512)  2359808     conv2d_31[0][0]                  \n",
            "__________________________________________________________________________________________________\n",
            "max_pooling2d_9 (MaxPooling2D)  (None, 16, 16, 512)  0           conv2d_32[0][0]                  \n",
            "__________________________________________________________________________________________________\n",
            "dropout_11 (Dropout)            (None, 16, 16, 512)  0           max_pooling2d_9[0][0]            \n",
            "__________________________________________________________________________________________________\n",
            "conv2d_33 (Conv2D)              (None, 16, 16, 1024) 4719616     dropout_11[0][0]                 \n",
            "__________________________________________________________________________________________________\n",
            "conv2d_34 (Conv2D)              (None, 16, 16, 1024) 9438208     conv2d_33[0][0]                  \n",
            "__________________________________________________________________________________________________\n",
            "conv2d_transpose_5 (Conv2DTrans (None, 32, 32, 512)  2097664     conv2d_34[0][0]                  \n",
            "__________________________________________________________________________________________________\n",
            "concatenate_5 (Concatenate)     (None, 32, 32, 1024) 0           conv2d_transpose_5[0][0]         \n",
            "                                                                 conv2d_32[0][0]                  \n",
            "__________________________________________________________________________________________________\n",
            "batch_normalization_12 (BatchNo (None, 32, 32, 1024) 4096        concatenate_5[0][0]              \n",
            "__________________________________________________________________________________________________\n",
            "conv2d_35 (Conv2D)              (None, 32, 32, 512)  4719104     batch_normalization_12[0][0]     \n",
            "__________________________________________________________________________________________________\n",
            "conv2d_36 (Conv2D)              (None, 32, 32, 512)  2359808     conv2d_35[0][0]                  \n",
            "__________________________________________________________________________________________________\n",
            "dropout_12 (Dropout)            (None, 32, 32, 512)  0           conv2d_36[0][0]                  \n",
            "__________________________________________________________________________________________________\n",
            "conv2d_transpose_6 (Conv2DTrans (None, 64, 64, 256)  524544      dropout_12[0][0]                 \n",
            "__________________________________________________________________________________________________\n",
            "concatenate_6 (Concatenate)     (None, 64, 64, 512)  0           conv2d_transpose_6[0][0]         \n",
            "                                                                 conv2d_30[0][0]                  \n",
            "__________________________________________________________________________________________________\n",
            "batch_normalization_13 (BatchNo (None, 64, 64, 512)  2048        concatenate_6[0][0]              \n",
            "__________________________________________________________________________________________________\n",
            "conv2d_37 (Conv2D)              (None, 64, 64, 256)  1179904     batch_normalization_13[0][0]     \n",
            "__________________________________________________________________________________________________\n",
            "conv2d_38 (Conv2D)              (None, 64, 64, 256)  590080      conv2d_37[0][0]                  \n",
            "__________________________________________________________________________________________________\n",
            "dropout_13 (Dropout)            (None, 64, 64, 256)  0           conv2d_38[0][0]                  \n",
            "__________________________________________________________________________________________________\n",
            "conv2d_transpose_7 (Conv2DTrans (None, 128, 128, 128 131200      dropout_13[0][0]                 \n",
            "__________________________________________________________________________________________________\n",
            "concatenate_7 (Concatenate)     (None, 128, 128, 256 0           conv2d_transpose_7[0][0]         \n",
            "                                                                 conv2d_28[0][0]                  \n",
            "__________________________________________________________________________________________________\n",
            "batch_normalization_14 (BatchNo (None, 128, 128, 256 1024        concatenate_7[0][0]              \n",
            "__________________________________________________________________________________________________\n",
            "conv2d_39 (Conv2D)              (None, 128, 128, 128 295040      batch_normalization_14[0][0]     \n",
            "__________________________________________________________________________________________________\n",
            "conv2d_40 (Conv2D)              (None, 128, 128, 128 147584      conv2d_39[0][0]                  \n",
            "__________________________________________________________________________________________________\n",
            "dropout_14 (Dropout)            (None, 128, 128, 128 0           conv2d_40[0][0]                  \n",
            "__________________________________________________________________________________________________\n",
            "conv2d_transpose_8 (Conv2DTrans (None, 256, 256, 64) 32832       dropout_14[0][0]                 \n",
            "__________________________________________________________________________________________________\n",
            "concatenate_8 (Concatenate)     (None, 256, 256, 128 0           conv2d_transpose_8[0][0]         \n",
            "                                                                 conv2d_26[0][0]                  \n",
            "__________________________________________________________________________________________________\n",
            "batch_normalization_15 (BatchNo (None, 256, 256, 128 512         concatenate_8[0][0]              \n",
            "__________________________________________________________________________________________________\n",
            "conv2d_41 (Conv2D)              (None, 256, 256, 64) 73792       batch_normalization_15[0][0]     \n",
            "__________________________________________________________________________________________________\n",
            "conv2d_42 (Conv2D)              (None, 256, 256, 64) 36928       conv2d_41[0][0]                  \n",
            "__________________________________________________________________________________________________\n",
            "dropout_15 (Dropout)            (None, 256, 256, 64) 0           conv2d_42[0][0]                  \n",
            "__________________________________________________________________________________________________\n",
            "conv2d_transpose_9 (Conv2DTrans (None, 512, 512, 32) 8224        dropout_15[0][0]                 \n",
            "__________________________________________________________________________________________________\n",
            "concatenate_9 (Concatenate)     (None, 512, 512, 64) 0           conv2d_transpose_9[0][0]         \n",
            "                                                                 conv2d_24[0][0]                  \n",
            "__________________________________________________________________________________________________\n",
            "conv2d_43 (Conv2D)              (None, 512, 512, 32) 18464       concatenate_9[0][0]              \n",
            "__________________________________________________________________________________________________\n",
            "conv2d_44 (Conv2D)              (None, 512, 512, 32) 9248        conv2d_43[0][0]                  \n",
            "__________________________________________________________________________________________________\n",
            "conv2d_45 (Conv2D)              (None, 512, 512, 2)  66          conv2d_44[0][0]                  \n",
            "==================================================================================================\n",
            "Total params: 31,104,130\n",
            "Trainable params: 31,099,330\n",
            "Non-trainable params: 4,800\n",
            "__________________________________________________________________________________________________\n"
          ],
          "name": "stdout"
        }
      ]
    },
    {
      "cell_type": "code",
      "metadata": {
        "colab": {
          "base_uri": "https://localhost:8080/"
        },
        "id": "OYTSuDsc2WpQ",
        "outputId": "dda2d72f-2f92-4fe6-ff52-73e2dc48fc19"
      },
      "source": [
        "history = model.fit(X_train_new,Y_train_new,epochs=10,verbose = 1, batch_size=2,validation_split=0.2)"
      ],
      "execution_count": 121,
      "outputs": [
        {
          "output_type": "stream",
          "text": [
            "Epoch 1/10\n",
            "8/8 [==============================] - 160s 19s/step - loss: 0.2692 - accuracy: 0.8240 - val_loss: 4.6660e-04 - val_accuracy: 0.9269\n",
            "Epoch 2/10\n",
            "8/8 [==============================] - 152s 19s/step - loss: 1.5074e-06 - accuracy: 0.8351 - val_loss: 1.2109e-06 - val_accuracy: 0.9269\n",
            "Epoch 3/10\n",
            "8/8 [==============================] - 153s 19s/step - loss: 1.1880e-08 - accuracy: 0.8962 - val_loss: 1.2396e-07 - val_accuracy: 0.9269\n",
            "Epoch 4/10\n",
            "8/8 [==============================] - 153s 19s/step - loss: 9.4951e-10 - accuracy: 0.8687 - val_loss: 8.2340e-08 - val_accuracy: 0.9269\n",
            "Epoch 5/10\n",
            "8/8 [==============================] - 151s 19s/step - loss: 1.5524e-10 - accuracy: 0.8500 - val_loss: 4.8235e-08 - val_accuracy: 0.9269\n",
            "Epoch 6/10\n",
            "8/8 [==============================] - 152s 19s/step - loss: 8.6256e-11 - accuracy: 0.8422 - val_loss: 2.6763e-08 - val_accuracy: 0.9269\n",
            "Epoch 7/10\n",
            "8/8 [==============================] - 152s 19s/step - loss: 4.7660e-11 - accuracy: 0.8658 - val_loss: 1.4533e-08 - val_accuracy: 0.9269\n",
            "Epoch 8/10\n",
            "8/8 [==============================] - 152s 19s/step - loss: 5.7225e-11 - accuracy: 0.8321 - val_loss: 7.4144e-09 - val_accuracy: 0.9269\n",
            "Epoch 9/10\n",
            "8/8 [==============================] - 152s 19s/step - loss: 3.4488e-11 - accuracy: 0.8930 - val_loss: 3.6614e-09 - val_accuracy: 0.9269\n",
            "Epoch 10/10\n",
            "8/8 [==============================] - 152s 19s/step - loss: 1.4278e-11 - accuracy: 0.9007 - val_loss: 1.9122e-09 - val_accuracy: 0.9269\n"
          ],
          "name": "stdout"
        }
      ]
    },
    {
      "cell_type": "code",
      "metadata": {
        "colab": {
          "base_uri": "https://localhost:8080/"
        },
        "id": "4ZdLerIrVBKz",
        "outputId": "33f72d96-63e4-42ec-ad08-c78a811bb7de"
      },
      "source": [
        "model.evaluate(X_train_new,Y_train_new)"
      ],
      "execution_count": 122,
      "outputs": [
        {
          "output_type": "stream",
          "text": [
            "1/1 [==============================] - 46s 46s/step - loss: 1.3537e-09 - accuracy: 0.8784\n"
          ],
          "name": "stdout"
        },
        {
          "output_type": "execute_result",
          "data": {
            "text/plain": [
              "[1.3537211351888345e-09, 0.8784379959106445]"
            ]
          },
          "metadata": {
            "tags": []
          },
          "execution_count": 122
        }
      ]
    },
    {
      "cell_type": "code",
      "metadata": {
        "colab": {
          "base_uri": "https://localhost:8080/",
          "height": 360
        },
        "id": "tKP3VJ5TdTzm",
        "outputId": "48a30ae5-7beb-4db9-b8c3-ed9553191f65"
      },
      "source": [
        "print(history.history.keys())\n",
        "plt.figure(figsize=(10,10))\n",
        "plt.subplot(221)\n",
        "plt.plot(history.history['loss'])\n",
        "plt.plot(history.history['val_loss'])\n",
        "plt.title('time series forecasting model loss')\n",
        "plt.ylabel('loss')\n",
        "plt.xlabel('epoch')\n",
        "plt.legend(['train', 'validation'], loc='upper left')\n",
        "\n",
        "plt.subplot(222)\n",
        "plt.plot(history.history['accuracy'])\n",
        "plt.plot(history.history['val_accuracy'])\n",
        "plt.title('time series forecasting model accuracy')\n",
        "plt.ylabel('accuracy')\n",
        "plt.xlabel('epoch')\n",
        "plt.legend(['train', 'validation'], loc='upper left')\n"
      ],
      "execution_count": 131,
      "outputs": [
        {
          "output_type": "stream",
          "text": [
            "dict_keys(['loss', 'accuracy', 'val_loss', 'val_accuracy'])\n"
          ],
          "name": "stdout"
        },
        {
          "output_type": "execute_result",
          "data": {
            "text/plain": [
              "<matplotlib.legend.Legend at 0x7f19c1124350>"
            ]
          },
          "metadata": {
            "tags": []
          },
          "execution_count": 131
        },
        {
          "output_type": "display_data",
          "data": {
            "image/png": "[encoded data removed]",
            "text/plain": [
              "<Figure size 720x720 with 2 Axes>"
            ]
          },
          "metadata": {
            "tags": [],
            "needs_background": "light"
          }
        }
      ]
    },
    {
      "cell_type": "code",
      "metadata": {
        "colab": {
          "base_uri": "https://localhost:8080/",
          "height": 251
        },
        "id": "s7EFssXZd-yu",
        "outputId": "9db11db5-2b68-4565-bade-da8daf8aaf3d"
      },
      "source": [
        "n = np.random.randint(0,20)\n",
        "X_test = X_train_new[n]\n",
        "Y_test = Y_train_new[n] \n",
        "\n",
        "\n",
        "plt.subplot(121)\n",
        "plt.imshow(X_test)\n",
        "plt.title('Testing RGB')\n",
        "\n",
        "plt.subplot(122)\n",
        "plt.imshow(Y_test)\n",
        "plt.title('Testing Mask')\n",
        "print(X_test.shape)\n",
        "print(Y_test.shape)"
      ],
      "execution_count": 387,
      "outputs": [
        {
          "output_type": "stream",
          "text": [
            "(512, 512, 3)\n",
            "(512, 512)\n"
          ],
          "name": "stdout"
        },
        {
          "output_type": "display_data",
          "data": {
            "image/png": "[encoded data removed]",
            "text/plain": [
              "<Figure size 432x288 with 2 Axes>"
            ]
          },
          "metadata": {
            "tags": [],
            "needs_background": "light"
          }
        }
      ]
    },
    {
      "cell_type": "code",
      "metadata": {
        "colab": {
          "base_uri": "https://localhost:8080/"
        },
        "id": "W74ny1akeIKr",
        "outputId": "f057381e-7c12-467f-8593-c558d068cce4"
      },
      "source": [
        "testing = np.expand_dims(X_test,axis=0)\n",
        "print(\"testing shape:,\",testing.shape)\n",
        "print(\"training shape :\", X_test.shape)\n",
        "pred = model.predict(testing,verbose=1)\n",
        "print(\"Prediction shape :\",pred.shape)\n",
        "print(\"Prediction Unique :\", np.unique(pred))"
      ],
      "execution_count": 394,
      "outputs": [
        {
          "output_type": "stream",
          "text": [
            "testing shape:, (1, 512, 512, 3)\n",
            "training shape : (512, 512, 3)\n",
            "1/1 [==============================] - 2s 2s/step\n",
            "Prediction shape : (1, 512, 512, 2)\n",
            "Prediction Unique : [0.0000000e+00 1.1846469e-38 1.1861664e-38 ... 9.9999982e-01 9.9999988e-01\n",
            " 1.0000000e+00]\n"
          ],
          "name": "stdout"
        }
      ]
    },
    {
      "cell_type": "code",
      "metadata": {
        "colab": {
          "base_uri": "https://localhost:8080/",
          "height": 339
        },
        "id": "X-Kcq0YgTtB0",
        "outputId": "f483dd1f-d457-47e1-fffa-1bac41cc27fd"
      },
      "source": [
        "pred = np.squeeze(pred,axis=0)\n",
        "print(pred.shape)\n",
        "pred =np.moveaxis(pred,2,0)\n",
        "print(pred.shape)\n",
        "pred = np.amax(pred,axis=0)\n",
        "print(pred.shape)\n",
        "plt.imshow(pred)"
      ],
      "execution_count": 396,
      "outputs": [
        {
          "output_type": "stream",
          "text": [
            "(512, 512, 2)\n",
            "(2, 512, 512)\n",
            "(512, 512)\n"
          ],
          "name": "stdout"
        },
        {
          "output_type": "execute_result",
          "data": {
            "text/plain": [
              "<matplotlib.image.AxesImage at 0x7f19c1027f10>"
            ]
          },
          "metadata": {
            "tags": []
          },
          "execution_count": 396
        },
        {
          "output_type": "display_data",
          "data": {
            "image/png": "[encoded data removed]",
            "text/plain": [
              "<Figure size 432x288 with 1 Axes>"
            ]
          },
          "metadata": {
            "tags": [],
            "needs_background": "light"
          }
        }
      ]
    },
    {
      "cell_type": "code",
      "metadata": {
        "colab": {
          "base_uri": "https://localhost:8080/",
          "height": 287
        },
        "id": "T342qCRrUWHD",
        "outputId": "c56583e7-f622-4fab-a400-f739f5c6e35e"
      },
      "source": [
        "plt.imshow(pred)\n",
        "plt.colorbar()"
      ],
      "execution_count": 397,
      "outputs": [
        {
          "output_type": "execute_result",
          "data": {
            "text/plain": [
              "<matplotlib.colorbar.Colorbar at 0x7f19c012ab90>"
            ]
          },
          "metadata": {
            "tags": []
          },
          "execution_count": 397
        },
        {
          "output_type": "display_data",
          "data": {
            "image/png": "[encoded data removed]",
            "text/plain": [
              "<Figure size 432x288 with 2 Axes>"
            ]
          },
          "metadata": {
            "tags": [],
            "needs_background": "light"
          }
        }
      ]
    },
    {
      "cell_type": "code",
      "metadata": {
        "colab": {
          "base_uri": "https://localhost:8080/"
        },
        "id": "LdOyhVKReWUX",
        "outputId": "6feb22ca-eabb-4253-ee04-d4db2b128963"
      },
      "source": [
        "pred"
      ],
      "execution_count": 395,
      "outputs": [
        {
          "output_type": "execute_result",
          "data": {
            "text/plain": [
              "array([[[[9.98310924e-01, 5.82081079e-03],\n",
              "         [9.99992728e-01, 7.05018783e-06],\n",
              "         [9.99999702e-01, 1.16399896e-07],\n",
              "         ...,\n",
              "         [9.99999762e-01, 5.09888736e-08],\n",
              "         [9.99994397e-01, 4.49350637e-07],\n",
              "         [9.96389985e-01, 9.66817141e-04]],\n",
              "\n",
              "        [[9.99948859e-01, 1.51986624e-05],\n",
              "         [1.00000000e+00, 1.69147529e-10],\n",
              "         [1.00000000e+00, 6.34493760e-13],\n",
              "         ...,\n",
              "         [1.00000000e+00, 9.69377878e-15],\n",
              "         [1.00000000e+00, 1.98299654e-10],\n",
              "         [9.99992609e-01, 3.35733205e-07]],\n",
              "\n",
              "        [[9.99999285e-01, 3.10842012e-07],\n",
              "         [1.00000000e+00, 5.46053599e-13],\n",
              "         [1.00000000e+00, 1.35308368e-17],\n",
              "         ...,\n",
              "         [1.00000000e+00, 2.55075629e-15],\n",
              "         [1.00000000e+00, 1.64760211e-15],\n",
              "         [9.99997973e-01, 2.15776981e-06]],\n",
              "\n",
              "        ...,\n",
              "\n",
              "        [[9.99802232e-01, 4.35938045e-06],\n",
              "         [9.99999762e-01, 8.07270195e-10],\n",
              "         [1.00000000e+00, 1.46842889e-12],\n",
              "         ...,\n",
              "         [1.00000000e+00, 2.42277334e-18],\n",
              "         [1.00000000e+00, 4.26355897e-14],\n",
              "         [9.99999762e-01, 1.48728363e-08]],\n",
              "\n",
              "        [[9.98983085e-01, 1.30772591e-04],\n",
              "         [9.99997020e-01, 3.18271361e-07],\n",
              "         [1.00000000e+00, 6.60376975e-10],\n",
              "         ...,\n",
              "         [1.00000000e+00, 3.39922396e-11],\n",
              "         [1.00000000e+00, 1.03117697e-11],\n",
              "         [9.99951065e-01, 1.56998634e-04]],\n",
              "\n",
              "        [[9.61173654e-01, 1.56754255e-03],\n",
              "         [9.97192025e-01, 7.10751337e-05],\n",
              "         [9.99736011e-01, 2.39548694e-06],\n",
              "         ...,\n",
              "         [9.99997497e-01, 5.38472804e-08],\n",
              "         [9.99958515e-01, 1.32706191e-06],\n",
              "         [9.98412132e-01, 2.22289562e-03]]]], dtype=float32)"
            ]
          },
          "metadata": {
            "tags": []
          },
          "execution_count": 395
        }
      ]
    },
    {
      "cell_type": "code",
      "metadata": {
        "id": "a_vCAodiiEQQ"
      },
      "source": [
        ""
      ],
      "execution_count": null,
      "outputs": []
    }
  ]
}