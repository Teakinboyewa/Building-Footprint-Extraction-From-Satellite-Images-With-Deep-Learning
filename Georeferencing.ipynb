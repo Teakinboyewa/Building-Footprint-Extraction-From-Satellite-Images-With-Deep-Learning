{
 "cells": [
  {
   "cell_type": "code",
   "execution_count": 6,
   "metadata": {},
   "outputs": [],
   "source": [
    "import shutil\n",
    "from osgeo import gdal,osr\n",
    "import glob\n",
    "import os"
   ]
  },
  {
   "cell_type": "code",
   "execution_count": 15,
   "metadata": {},
   "outputs": [],
   "source": [
    "os.chdir(r'D:\\Building extraction project\\GIS\\Projected Raster')"
   ]
  },
  {
   "cell_type": "code",
   "execution_count": 16,
   "metadata": {},
   "outputs": [
    {
     "name": "stdout",
     "output_type": "stream",
     "text": [
      "tiff images =  189000_18767000_proj.tif\n",
      "png image =['binary_mask.png']\n"
     ]
    }
   ],
   "source": [
    "data = glob.glob(\"*.tif\")\n",
    "for i in data:\n",
    "    print(\"tiff images =  {}\".format(i))\n",
    "    \n",
    "data_png = glob.glob(\"*.png\")\n",
    "print(\"png image ={}\".format(data_png))"
   ]
  },
  {
   "cell_type": "code",
   "execution_count": 18,
   "metadata": {},
   "outputs": [],
   "source": [
    "from osgeo import gdal \n",
    "import osr\n",
    "\n",
    "tiff = gdal.Open(r\"gcs_proj.tif\")\n",
    "gt = tiff.GetGeoTransform()\n",
    "\n",
    "inputImage = r\"binary_mask.png\"\n",
    "outputImage = r\"binary_mask_GCS_projected.tif\"\n",
    "\n",
    "dataset = gdal.Open(inputImage) \n",
    "I = dataset.ReadAsArray(0,0,dataset.RasterXSize,dataset.RasterYSize)\n",
    "\n",
    "\n",
    "outdataset = gdal.GetDriverByName('GTiff') \n",
    "output_SRS = osr.SpatialReference() \n",
    "#output_SRS.ImportFromEPSG(4326)\n",
    "outdataset = outdataset.Create(outputImage,dataset.RasterXSize,dataset.RasterYSize,1)                  \n",
    "outdataset.GetRasterBand(1).WriteArray(I)\n",
    "\n",
    "                     \n",
    "#gcp_list = [] \n",
    "#gcp_list.append(gdal.GCP(west, north, 0, 0,650))\n",
    "#gcp_list.append(gdal.GCP(east,south, 0, 650,0))\n",
    "\n",
    "outdataset.SetProjection(output_SRS.ExportToWkt()) \n",
    "outdataset.SetGeoTransform(gt)\n",
    "wkt = outdataset.GetProjection() \n",
    "#outdataset.SetGCPs(gcp_list,wkt)\n",
    "\n",
    "#gdal.Warp(outputImage, outdataset, dstSRS='EPSG:4326', format='gtiff',xRes =5 , yRes=5)\n",
    "outdataset = None\n",
    "\n",
    "#Final Georeferencing Code\n"
   ]
  },
  {
   "cell_type": "code",
   "execution_count": 12,
   "metadata": {},
   "outputs": [
    {
     "data": {
      "text/plain": [
       "NoneType"
      ]
     },
     "execution_count": 12,
     "metadata": {},
     "output_type": "execute_result"
    }
   ],
   "source": [
    "type(outdataset)"
   ]
  },
  {
   "cell_type": "code",
   "execution_count": 13,
   "metadata": {},
   "outputs": [
    {
     "data": {
      "text/plain": [
       "'C:\\\\Users\\\\hp\\\\Desktop\\\\my python exercises'"
      ]
     },
     "execution_count": 13,
     "metadata": {},
     "output_type": "execute_result"
    }
   ],
   "source": [
    "import os\n",
    "os.getcwd()"
   ]
  },
  {
   "cell_type": "code",
   "execution_count": 14,
   "metadata": {},
   "outputs": [
    {
     "data": {
      "text/plain": [
       "(189000.0, 0.1, 0.0, 1868000.0, 0.0, -0.1)"
      ]
     },
     "execution_count": 14,
     "metadata": {},
     "output_type": "execute_result"
    }
   ],
   "source": [
    "gt"
   ]
  },
  {
   "cell_type": "code",
   "execution_count": 15,
   "metadata": {},
   "outputs": [
    {
     "data": {
      "text/plain": [
       "'result.jpg'"
      ]
     },
     "execution_count": 15,
     "metadata": {},
     "output_type": "execute_result"
    }
   ],
   "source": [
    "inputImage"
   ]
  },
  {
   "cell_type": "code",
   "execution_count": 19,
   "metadata": {},
   "outputs": [
    {
     "ename": "AttributeError",
     "evalue": "'NoneType' object has no attribute 'ReadAsArray'",
     "output_type": "error",
     "traceback": [
      "\u001b[1;31m---------------------------------------------------------------------------\u001b[0m",
      "\u001b[1;31mAttributeError\u001b[0m                            Traceback (most recent call last)",
      "\u001b[1;32m<ipython-input-19-dff7757a9b22>\u001b[0m in \u001b[0;36m<module>\u001b[1;34m\u001b[0m\n\u001b[0;32m      6\u001b[0m \u001b[1;33m\u001b[0m\u001b[0m\n\u001b[0;32m      7\u001b[0m \u001b[0mdataset\u001b[0m \u001b[1;33m=\u001b[0m \u001b[0mgdal\u001b[0m\u001b[1;33m.\u001b[0m\u001b[0mOpen\u001b[0m\u001b[1;33m(\u001b[0m\u001b[0minputImage\u001b[0m\u001b[1;33m)\u001b[0m\u001b[1;33m\u001b[0m\u001b[1;33m\u001b[0m\u001b[0m\n\u001b[1;32m----> 8\u001b[1;33m \u001b[0mI\u001b[0m \u001b[1;33m=\u001b[0m \u001b[0mdataset\u001b[0m\u001b[1;33m.\u001b[0m\u001b[0mReadAsArray\u001b[0m\u001b[1;33m(\u001b[0m\u001b[1;36m0\u001b[0m\u001b[1;33m,\u001b[0m\u001b[1;36m0\u001b[0m\u001b[1;33m,\u001b[0m\u001b[0mdataset\u001b[0m\u001b[1;33m.\u001b[0m\u001b[0mRasterXSize\u001b[0m\u001b[1;33m,\u001b[0m\u001b[0mdataset\u001b[0m\u001b[1;33m.\u001b[0m\u001b[0mRasterYSize\u001b[0m\u001b[1;33m)\u001b[0m\u001b[1;33m\u001b[0m\u001b[1;33m\u001b[0m\u001b[0m\n\u001b[0m\u001b[0;32m      9\u001b[0m \u001b[1;33m\u001b[0m\u001b[0m\n\u001b[0;32m     10\u001b[0m \u001b[1;33m\u001b[0m\u001b[0m\n",
      "\u001b[1;31mAttributeError\u001b[0m: 'NoneType' object has no attribute 'ReadAsArray'"
     ]
    }
   ],
   "source": [
    "\n",
    "tiff = gdal.Open(r\"D:\\Building extraction project\\sample.tif\")\n",
    "gt = tiff.GetGeoTransform()\n",
    "\n",
    "inputImage = r\"D:\\Building extraction project\\result.jpg\"\n",
    "outputImage = r\"D:\\Building extraction project\\trueimg1.tif\"\n",
    "\n",
    "dataset = gdal.Open(inputImage) \n",
    "I = dataset.ReadAsArray(0,0,dataset.RasterXSize,dataset.RasterYSize)\n",
    "\n",
    "\n",
    "outdataset = gdal.GetDriverByName('GTiff') \n",
    "output_SRS = osr.SpatialReference() \n",
    "output_SRS.ImportFromEPSG(4326)\n",
    "outdataset = outdataset.Create(outputImage,dataset.RasterXSize,dataset.RasterYSize,1)                  \n",
    "outdataset.GetRasterBand(1).WriteArray(I)\n",
    "\n",
    "                     \n",
    "#gcp_list = [] \n",
    "#gcp_list.append(gdal.GCP(west, north, 0, 0,650))\n",
    "#gcp_list.append(gdal.GCP(east,south, 0, 650,0))\n",
    "\n",
    "outdataset.SetProjection(output_SRS.ExportToWkt()) \n",
    "outdataset.SetGeoTransform(gt)\n",
    "wkt = outdataset.GetProjection() \n",
    "#outdataset.SetGCPs(gcp_list,wkt)\n",
    "\n",
    "#gdal.Warp(outputImage, outdataset, dstSRS='EPSG:4326', format='gtiff',xRes =5 , yRes=5)\n",
    "outdataset = None"
   ]
  },
  {
   "cell_type": "code",
   "execution_count": null,
   "metadata": {},
   "outputs": [],
   "source": []
  }
 ],
 "metadata": {
  "kernelspec": {
   "display_name": "Python 3",
   "language": "python",
   "name": "python3"
  },
  "language_info": {
   "codemirror_mode": {
    "name": "ipython",
    "version": 3
   },
   "file_extension": ".py",
   "mimetype": "text/x-python",
   "name": "python",
   "nbconvert_exporter": "python",
   "pygments_lexer": "ipython3",
   "version": "3.8.5"
  }
 },
 "nbformat": 4,
 "nbformat_minor": 4
}
