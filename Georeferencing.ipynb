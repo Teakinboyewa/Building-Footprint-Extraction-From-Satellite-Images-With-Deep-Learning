{
 "cells": [
  {
   "cell_type": "code",
   "execution_count": 62,
   "metadata": {},
   "outputs": [],
   "source": [
    "import shutil\n",
    "from osgeo import gdal,osr\n",
    "import glob\n",
    "import os\n",
    "import numpy as np"
   ]
  },
  {
   "cell_type": "code",
   "execution_count": 63,
   "metadata": {},
   "outputs": [],
   "source": [
    "os.chdir(r'D:\\semantic segmentation\\1.Annotate\\0.Datasets\\binary_mask')"
   ]
  },
  {
   "cell_type": "code",
   "execution_count": 66,
   "metadata": {},
   "outputs": [
    {
     "name": "stdout",
     "output_type": "stream",
     "text": [
      "tiff images =  Clip_final_hlaing_thar_yar1.tif\n",
      "png image =['img.png', 'label.png', 'label_viz.png', 'test_label - Copy.png', 'test_label.png']\n"
     ]
    }
   ],
   "source": [
    "data = glob.glob(\"*.tif\")\n",
    "for i in data:\n",
    "    print(\"tiff images =  {}\".format(i))\n",
    "    \n",
    "data_png = glob.glob(\"*.png\")\n",
    "print(\"png image ={}\".format(data_png))"
   ]
  },
  {
   "cell_type": "code",
   "execution_count": 61,
   "metadata": {},
   "outputs": [],
   "source": [
    "from osgeo import gdal \n",
    "import osr\n",
    "\n",
    "tiff = gdal.Open(r\"Clip_final_hlaing_thar_yar1.tif\")\n",
    "gt = tiff.GetGeoTransform()\n",
    "\n",
    "inputImage = r\"test_label.png\"\n",
    "outputImage = r\"label_GCS_projected1.tif\"\n",
    "\n",
    "dataset = gdal.Open(inputImage) \n",
    "I = dataset.ReadAsArray(0,0,dataset.RasterXSize,dataset.RasterYSize)\n",
    "\n",
    "\n",
    "outdataset = gdal.GetDriverByName('GTiff') \n",
    "output_SRS = osr.SpatialReference() \n",
    "output_SRS.ImportFromEPSG(32647)\n",
    "outdataset = outdataset.Create(outputImage,dataset.RasterXSize,dataset.RasterYSize,1)                  \n",
    "outdataset.GetRasterBand(1).WriteArray(I)\n",
    "\n",
    "                     \n",
    "#gcp_list = [] \n",
    "#gcp_list.append(gdal.GCP(west, north, 0, 0,650))\n",
    "#gcp_list.append(gdal.GCP(east,south, 0, 650,0))\n",
    "\n",
    "outdataset.SetProjection(output_SRS.ExportToWkt()) \n",
    "outdataset.SetGeoTransform(gt)\n",
    "wkt = outdataset.GetProjection() \n",
    "#outdataset.SetGCPs(gcp_list,wkt)\n",
    "\n",
    "gdal.Warp(outputImage, outdataset, dstSRS='EPSG:32647', format='gtiff')\n",
    "outdataset = None\n",
    "\n",
    "#Final Georeferencing Code\n"
   ]
  },
  {
   "cell_type": "code",
   "execution_count": null,
   "metadata": {},
   "outputs": [],
   "source": []
  }
 ],
 "metadata": {
  "kernelspec": {
   "display_name": "Python 3",
   "language": "python",
   "name": "python3"
  },
  "language_info": {
   "codemirror_mode": {
    "name": "ipython",
    "version": 3
   },
   "file_extension": ".py",
   "mimetype": "text/x-python",
   "name": "python",
   "nbconvert_exporter": "python",
   "pygments_lexer": "ipython3",
   "version": "3.8.5"
  }
 },
 "nbformat": 4,
 "nbformat_minor": 4
}
