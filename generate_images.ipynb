{
 "cells": [
  {
   "cell_type": "code",
   "execution_count": null,
   "metadata": {},
   "outputs": [],
   "source": [
    "import tifffile as tfl\n",
    "import numpy as np\n",
    "import PIL\n",
    "from PIL import Image\n",
    "import matplotlib.pyplot as plt\n",
    "import cv2\n",
    "import os"
   ]
  },
  {
   "cell_type": "markdown",
   "metadata": {},
   "source": [
    "# Read Image"
   ]
  },
  {
   "cell_type": "code",
   "execution_count": null,
   "metadata": {},
   "outputs": [],
   "source": [
    "# in case error occurs\n",
    "# PIL.Image.MAX_IMAGE_PIXELS = 441711756\n",
    "\n",
    "# read image\n",
    "img_ori_dir = 'my_image.tif'\n",
    "img_ori = tfl.imread(img_ori_dir)\n",
    "\n",
    "print(img_ori.shape)"
   ]
  },
  {
   "cell_type": "code",
   "execution_count": null,
   "metadata": {},
   "outputs": [],
   "source": [
    "# original image height and width\n",
    "ori_height = img_ori.shape[0]\n",
    "ori_width = img_ori.shape[1]"
   ]
  },
  {
   "cell_type": "markdown",
   "metadata": {},
   "source": [
    "# Rescale Image\n",
    "- calculate new resized image size(height and width)"
   ]
  },
  {
   "cell_type": "code",
   "execution_count": null,
   "metadata": {},
   "outputs": [],
   "source": [
    "# Scale\n",
    "# percentage to shrink or enlarge image\n",
    "percent = 0.7\n",
    "\n",
    "# target tile size\n",
    "img_size = 512\n",
    "\n",
    "# calculate target image height and width\n",
    "new_height = int(ori_height * percent)\n",
    "new_width = int(ori_width * percent)\n",
    "\n",
    "print(new_height, new_width)"
   ]
  },
  {
   "cell_type": "markdown",
   "metadata": {},
   "source": [
    "# Resize image and visualize \n",
    "- only include RGB channel, discard the 4th one if exists\n",
    "- best interpolation methods for image resizing\n",
    "    - Enlarge: INTER_LINEAR or INTER_CUBIC\n",
    "    - Shrink: INTER_AREA"
   ]
  },
  {
   "cell_type": "code",
   "execution_count": null,
   "metadata": {},
   "outputs": [],
   "source": [
    "img = cv2.resize(img_ori, (new_width , new_height))[:,:,:]\n",
    "plt.imshow(img)"
   ]
  },
  {
   "cell_type": "markdown",
   "metadata": {},
   "source": [
    "# Visualize a sample tile\n",
    "- if we do not like the scale, we can go back up and change scale"
   ]
  },
  {
   "cell_type": "code",
   "execution_count": null,
   "metadata": {},
   "outputs": [],
   "source": [
    "# x and y coordinates to plot\n",
    "x = 4000\n",
    "y = 5000\n",
    "\n",
    "fig, ax1 = plt.subplots(1,1, figsize=(13, 8))\n",
    "ax1.imshow(img[y : y+img_size, x : x+img_size])"
   ]
  },
  {
   "cell_type": "markdown",
   "metadata": {},
   "source": [
    "# Pad and Crop"
   ]
  },
  {
   "cell_type": "code",
   "execution_count": null,
   "metadata": {},
   "outputs": [],
   "source": [
    "import image_utils as ps\n",
    "\n",
    "# pad the image according to model input size\n",
    "padded = ps.pad(img, img_size, img_size)\n",
    "\n",
    "# crop image into tiles\n",
    "cropped = ps.crop(padded, img_size, img_size)\n",
    "\n",
    "print('Number of Tiles :', len(cropped))"
   ]
  },
  {
   "cell_type": "markdown",
   "metadata": {},
   "source": [
    "# Save tiles in target directory"
   ]
  },
  {
   "cell_type": "code",
   "execution_count": 1,
   "metadata": {},
   "outputs": [],
   "source": [
    "save_dir = 'images/'\n",
    "area_name = 'area_1'"
   ]
  },
  {
   "cell_type": "code",
   "execution_count": null,
   "metadata": {},
   "outputs": [],
   "source": [
    "def get_img_name(area_name, idx, num_digit, angle):\n",
    "    num_zeros = num_digit - len(str(idx))\n",
    "    zeros = ''\n",
    "    for i in range(num_zeros): zeros+='0'\n",
    "    return area_name + '_' + zeros + str(idx) + '_' + 'a' + str(angle)\n",
    "\n",
    "img_format = 'png'\n",
    "num_digit = 5\n",
    "index = 1\n",
    "rotations = [0]\n",
    "\n",
    "# save all images from list of cropped tiles\n",
    "for tile in cropped:\n",
    "    for angle in rotations:\n",
    "        \n",
    "        # rotate image\n",
    "        rotated_tile = tile.rotate(angle)\n",
    "        \n",
    "        # get image name format\n",
    "        img_name = get_img_name(area_name, index, num_digit, angle)\n",
    "        \n",
    "        # save image\n",
    "        rotated_tile.save(save_dir+'{}.{}'.format(img_name, img_format))\n",
    "        \n",
    "        print(save_dir+'{}.{}'.format(img_name, img_format))\n",
    "        \n",
    "    index += 1"
   ]
  }
 ],
 "metadata": {
  "kernelspec": {
   "display_name": "Python 3",
   "language": "python",
   "name": "python3"
  },
  "language_info": {
   "codemirror_mode": {
    "name": "ipython",
    "version": 3
   },
   "file_extension": ".py",
   "mimetype": "text/x-python",
   "name": "python",
   "nbconvert_exporter": "python",
   "pygments_lexer": "ipython3",
   "version": "3.8.5"
  }
 },
 "nbformat": 4,
 "nbformat_minor": 4
}
