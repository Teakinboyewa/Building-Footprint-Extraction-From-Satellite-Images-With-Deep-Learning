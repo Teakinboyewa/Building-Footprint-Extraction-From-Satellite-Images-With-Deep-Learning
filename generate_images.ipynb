{
 "cells": [
  {
   "cell_type": "code",
   "execution_count": null,
   "metadata": {
    "id": "uOWzN4p5UC8N"
   },
   "outputs": [],
   "source": [
    "import tifffile as tfl\n",
    "import matplotlib.pyplot as plt\n",
    "\n",
    "import image_utils as ps"
   ]
  },
  {
   "cell_type": "markdown",
   "metadata": {
    "id": "9V6ZSg-RUC8T"
   },
   "source": [
    "## **Read image**"
   ]
  },
  {
   "cell_type": "code",
   "execution_count": null,
   "metadata": {
    "id": "ljcyFpNqUC8U"
   },
   "outputs": [],
   "source": [
    "# in case error occurs\n",
    "# PIL.Image.MAX_IMAGE_PIXELS = 441711756\n",
    "\n",
    "# size of a single tile\n",
    "tile_size = 512\n",
    "\n",
    "# read image\n",
    "image_dir = 'my_image.tif'\n",
    "image = tfl.imread(image_dir)\n",
    "\n",
    "print(image.shape)"
   ]
  },
  {
   "cell_type": "markdown",
   "metadata": {
    "id": "BIO1ZHgkUC8X"
   },
   "source": [
    "## **Resize image if necessary**"
   ]
  },
  {
   "cell_type": "code",
   "execution_count": null,
   "metadata": {
    "id": "ClJUsjtDUC8X"
   },
   "outputs": [],
   "source": [
    "resize = False\n",
    "\n",
    "# percentage to shrink or enlarge image\n",
    "scale = 0.5\n",
    "\n",
    "if resize:\n",
    "  # resizes image\n",
    "  image = ps.resize_image(image, percent = scale)\n",
    "    \n",
    "plt.imshow(image)"
   ]
  },
  {
   "cell_type": "markdown",
   "metadata": {
    "id": "qNcL94wyUC8b"
   },
   "source": [
    "## **Visualize a sample tile**\n",
    "- if we do not like the scale, we can go back up and change scale"
   ]
  },
  {
   "cell_type": "code",
   "execution_count": null,
   "metadata": {
    "id": "x4-VfSfcUC8d"
   },
   "outputs": [],
   "source": [
    "# x and y coordinates to plot\n",
    "x = 4000\n",
    "y = 5000\n",
    "\n",
    "fig, ax1 = plt.subplots(1,1, figsize=(13, 8))\n",
    "ax1.imshow(image[y : y+tile_size, x : x+tile_size])"
   ]
  },
  {
   "cell_type": "markdown",
   "metadata": {
    "id": "zQoGY_AQUC8e"
   },
   "source": [
    "## **Pad and crop**"
   ]
  },
  {
   "cell_type": "code",
   "execution_count": null,
   "metadata": {
    "id": "teeUnpfXUC8e"
   },
   "outputs": [],
   "source": [
    "import image_utils as ps\n",
    "\n",
    "# pad the image according to model input size\n",
    "padded_image = ps.pad(image, tile_size, tile_size)\n",
    "\n",
    "# crop image into tiles\n",
    "cropped_tiles = ps.crop(padded_image, tile_size, tile_size)\n",
    "\n",
    "print('Number of Tiles :', len(cropped_tiles))"
   ]
  },
  {
   "cell_type": "markdown",
   "metadata": {
    "id": "LyedlmhfUC8f"
   },
   "source": [
    "## **Save tiles in target directory**"
   ]
  },
  {
   "cell_type": "code",
   "execution_count": null,
   "metadata": {
    "id": "AB60OqZWUThr"
   },
   "outputs": [],
   "source": [
    "# save images in a directory\n",
    "ps.generate_images(cropped_tiles, \n",
    "                   save_dir=  'dataset/images', \n",
    "                   area_name='area_1',\n",
    "                   img_format='png',\n",
    "                   num_digit=4,\n",
    "                   rotations=[0, 90, 180, 270], \n",
    "                   flip_horizontal=True,\n",
    "                   flip_vertical=False)"
   ]
  }
 ],
 "metadata": {
  "colab": {
   "collapsed_sections": [],
   "name": "Copy of generate_images.ipynb",
   "provenance": []
  },
  "kernelspec": {
   "display_name": "Python 3",
   "language": "python",
   "name": "python3"
  },
  "language_info": {
   "codemirror_mode": {
    "name": "ipython",
    "version": 3
   },
   "file_extension": ".py",
   "mimetype": "text/x-python",
   "name": "python",
   "nbconvert_exporter": "python",
   "pygments_lexer": "ipython3",
   "version": "3.8.5"
  }
 },
 "nbformat": 4,
 "nbformat_minor": 1
}
