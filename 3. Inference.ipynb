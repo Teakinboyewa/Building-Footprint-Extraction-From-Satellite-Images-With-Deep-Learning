{
 "cells": [
  {
   "cell_type": "code",
   "execution_count": null,
   "metadata": {
    "id": "_xUTGZZ9WAwP"
   },
   "outputs": [],
   "source": [
    "import numpy as np\n",
    "from PIL import Image\n",
    "import matplotlib.pyplot as plt\n",
    "\n",
    "import os\n",
    "import utils.image_utils as ps"
   ]
  },
  {
   "cell_type": "markdown",
   "metadata": {
    "id": "5JOqKhrMWAwR"
   },
   "source": [
    "## Load test image"
   ]
  },
  {
   "cell_type": "code",
   "execution_count": null,
   "metadata": {
    "id": "GY6lFC7dWAwW"
   },
   "outputs": [],
   "source": [
    "image_dir = 'test_image.png'\n",
    "image = np.array(Image.open(image_dir))"
   ]
  },
  {
   "cell_type": "markdown",
   "metadata": {
    "id": "vb8lXWzoWAwX"
   },
   "source": [
    "## Resize image if necessary"
   ]
  },
  {
   "cell_type": "code",
   "execution_count": null,
   "metadata": {
    "colab": {
     "base_uri": "https://localhost:8080/",
     "height": 319
    },
    "id": "PRuGQONfWAwX",
    "outputId": "a725bfa5-aea9-46cf-c341-156360ae3280"
   },
   "outputs": [],
   "source": [
    "resize = True\n",
    "\n",
    "scale = 0.5\n",
    "\n",
    "if resize:\n",
    "    image = ps.resize_image(image, percent = scale)\n",
    "    \n",
    "plt.imshow(image)"
   ]
  },
  {
   "cell_type": "markdown",
   "metadata": {
    "id": "FOUvJF8tWAwX"
   },
   "source": [
    "## Pad and crop image"
   ]
  },
  {
   "cell_type": "code",
   "execution_count": null,
   "metadata": {
    "colab": {
     "base_uri": "https://localhost:8080/"
    },
    "id": "noMDqLJIWAwX",
    "outputId": "2f94d598-8555-4a44-ef0c-776a9167ab12"
   },
   "outputs": [],
   "source": [
    "model_input_w = 512\n",
    "model_input_h = 512\n",
    "\n",
    "# pad & crop\n",
    "padded_image = ps.pad(image, model_input_w, model_input_h)\n",
    "cropped_tiles = ps.crop(padded_image, model_input_w, model_input_h, numpy_output=True)"
   ]
  },
  {
   "cell_type": "markdown",
   "metadata": {
    "id": "WKFu684DWAwY"
   },
   "source": [
    "## Load model"
   ]
  },
  {
   "cell_type": "code",
   "execution_count": null,
   "metadata": {
    "id": "rQcGoXrCWAwY"
   },
   "outputs": [],
   "source": [
    "from tensorflow.keras.models import load_model\n",
    "from loss import bce_dice_loss\n",
    "\n",
    "model = load_model('outputs/weights/my_model.h5',\n",
    "                   custom_objects={ 'bce_dice_loss': bce_dice_loss} # Load BCE Dice Loss from loss.py into model\n",
    "                  ) "
   ]
  },
  {
   "cell_type": "markdown",
   "metadata": {
    "id": "BI0E2EfHWAwY"
   },
   "source": [
    "## Inference"
   ]
  },
  {
   "cell_type": "code",
   "execution_count": null,
   "metadata": {
    "colab": {
     "base_uri": "https://localhost:8080/"
    },
    "id": "ApyqqtG0WAwY",
    "outputId": "d6c3ff83-b700-4aad-97c3-c4294eea210b",
    "scrolled": true
   },
   "outputs": [],
   "source": [
    "model_predictions = model.predict(cropped_tiles,verbose=1)\n",
    "\n",
    "preds = np.squeeze(model_predictions)\n",
    "\n",
    "threshold = 0.95\n",
    "preds = preds > threshold"
   ]
  },
  {
   "cell_type": "markdown",
   "metadata": {
    "id": "j40NqPx2WAwY"
   },
   "source": [
    "## Reconstruct final predicted image"
   ]
  },
  {
   "cell_type": "code",
   "execution_count": null,
   "metadata": {
    "colab": {
     "base_uri": "https://localhost:8080/",
     "height": 286
    },
    "id": "n6XUjLJiWAwZ",
    "outputId": "10775ee7-1e4e-418b-a670-93e35192a248",
    "scrolled": true
   },
   "outputs": [],
   "source": [
    "# image height and width\n",
    "img_h, img_w = image.shape[0], image.shape[1]\n",
    "\n",
    "# reconstructs predicted mask tiles into one single mask image\n",
    "predicted_image = ps.reconstruct(preds, img_w, img_h, model_input_w, model_input_h, numpy_output = False)\n",
    "\n",
    "plt.imshow(predicted_image)"
   ]
  },
  {
   "cell_type": "markdown",
   "metadata": {
    "id": "L24wmmcTWAwZ"
   },
   "source": [
    "## Save image"
   ]
  },
  {
   "cell_type": "code",
   "execution_count": null,
   "metadata": {
    "id": "SOyCuKAuWAwZ"
   },
   "outputs": [],
   "source": [
    "# folder for saving predicted mask image by model\n",
    "image_save_folder = 'outputs/inference outputs/png'\n",
    "\n",
    "# creates a new folder if it does not exist yet\n",
    "os.makedirs(image_save_folder, exists_ok = True)\n",
    "\n",
    "# save predicted mask image in target folder\n",
    "predicted_image.save(f'{image_save_folder}/predicted_image.png')"
   ]
  }
 ],
 "metadata": {
  "colab": {
   "name": "Inferencev2.ipynb",
   "provenance": []
  },
  "kernelspec": {
   "display_name": "Python 3",
   "language": "python",
   "name": "python3"
  },
  "language_info": {
   "codemirror_mode": {
    "name": "ipython",
    "version": 3
   },
   "file_extension": ".py",
   "mimetype": "text/x-python",
   "name": "python",
   "nbconvert_exporter": "python",
   "pygments_lexer": "ipython3",
   "version": "3.8.5"
  }
 },
 "nbformat": 4,
 "nbformat_minor": 1
}
